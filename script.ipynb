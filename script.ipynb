{
 "cells": [
  {
   "cell_type": "code",
   "execution_count": null,
   "id": "d16e8092",
   "metadata": {},
   "outputs": [],
   "source": [
    "import os\n",
    "import json\n",
    "import requests"
   ]
  },
  {
   "cell_type": "code",
   "execution_count": null,
   "id": "1a849c02",
   "metadata": {},
   "outputs": [],
   "source": [
    "URL_YOUMAIL_API_LIST = \"https://dataapi.youmail.com/directory/spammers/v2/partial/since/20210109T150000Z/list\"\n",
    "URL_YOUMAIL_API_PARTIAL_HOUR = \"https://dataapi.youmail.com/api/v3/spammerlist/partial/\""
   ]
  },
  {
   "cell_type": "code",
   "execution_count": null,
   "id": "b624cb1b",
   "metadata": {},
   "outputs": [],
   "source": [
    "def get_credentials():\n",
    "    with open(\"credentials.json\") as file:\n",
    "        cf = json.load(file)\n",
    "\n",
    "    return cf"
   ]
  },
  {
   "cell_type": "code",
   "execution_count": null,
   "id": "e366d0a4",
   "metadata": {},
   "outputs": [],
   "source": [
    "def get_youmail_api_headers():\n",
    "\n",
    "    config = get_credentials()\n",
    "\n",
    "    headers = {\n",
    "        'User-Agent': 'Mozilla/5.0 (Macintosh; Intel Mac OS X 10_6_8) AppleWebKit/535.7 (KHTML, like Gecko) Chrome/16.0.912.63 Safari/535.7',\n",
    "        'Accept': 'application/json',\n",
    "        #'Accept-Encoding': 'gzip',\n",
    "        'DataApiSid': config['YOUMAIL_API_SID'],\n",
    "        'DataApiKey': config['YOUMAIL_API_KEY']\n",
    "    }\n",
    "    \n",
    "    return headers"
   ]
  },
  {
   "cell_type": "code",
   "execution_count": null,
   "id": "55f1c7b2",
   "metadata": {
    "scrolled": true
   },
   "outputs": [],
   "source": [
    "def get_youmail_partial_list(datetime):\n",
    "    \n",
    "    try:\n",
    "        headers = get_youmail_api_headers()\n",
    "        response = requests.get(URL_YOUMAIL_API_PARTIAL_HOUR + datetime, headers=headers)\n",
    "    \n",
    "    except requests.exceptions.RequestException as e:\n",
    "        print(e)\n",
    "        raise SystemExit(e)\n",
    "        \n",
    "    return response.json()\n",
    "\n",
    "get_youmail_partial_list(\"20211020T160000Z\")"
   ]
  }
 ],
 "metadata": {
  "jupytext": {
   "text_representation": {
    "extension": ".py",
    "format_name": "light",
    "format_version": "1.5",
    "jupytext_version": "1.13.0"
   }
  },
  "kernelspec": {
   "display_name": "Python 3",
   "language": "python",
   "name": "python3"
  },
  "language_info": {
   "codemirror_mode": {
    "name": "ipython",
    "version": 3
   },
   "file_extension": ".py",
   "mimetype": "text/x-python",
   "name": "python",
   "nbconvert_exporter": "python",
   "pygments_lexer": "ipython3",
   "version": "3.8.8"
  }
 },
 "nbformat": 4,
 "nbformat_minor": 5
}
