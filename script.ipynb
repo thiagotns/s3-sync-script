{
 "cells": [
  {
   "cell_type": "code",
   "execution_count": 47,
   "id": "d16e8092",
   "metadata": {},
   "outputs": [],
   "source": [
    "import os\n",
    "import json\n",
    "import requests\n",
    "import pandas as pd\n",
    "import csv"
   ]
  },
  {
   "cell_type": "code",
   "execution_count": 68,
   "id": "1a849c02",
   "metadata": {},
   "outputs": [],
   "source": [
    "URL_YOUMAIL_API_LIST = \"https://dataapi.youmail.com/directory/spammers/v2/partial/since/\"\n",
    "URL_YOUMAIL_API_FULL = \"https://dataapi.youmail.com/api/v3/spammerlist/full\"\n",
    "URL_YOUMAIL_API_PARTIAL_HOUR = \"https://dataapi.youmail.com/api/v3/spammerlist/partial/\"\n",
    "\n",
    "CSV_FOLDER = \"files\"\n",
    "YOUMAIL_FULL_FILENAME = \"spam-number-file.csv\""
   ]
  },
  {
   "cell_type": "code",
   "execution_count": 15,
   "id": "b624cb1b",
   "metadata": {},
   "outputs": [],
   "source": [
    "def get_credentials():\n",
    "    with open(\"credentials.json\") as file:\n",
    "        cf = json.load(file)\n",
    "\n",
    "    return cf"
   ]
  },
  {
   "cell_type": "code",
   "execution_count": 4,
   "id": "e366d0a4",
   "metadata": {},
   "outputs": [],
   "source": [
    "def get_youmail_api_headers():\n",
    "\n",
    "    config = get_credentials()\n",
    "\n",
    "    headers = {\n",
    "        'User-Agent': 'Mozilla/5.0 (Macintosh; Intel Mac OS X 10_6_8) AppleWebKit/535.7 (KHTML, like Gecko) Chrome/16.0.912.63 Safari/535.7',\n",
    "        'Accept': 'application/json',\n",
    "        #'Accept-Encoding': 'gzip',\n",
    "        'DataApiSid': config['YOUMAIL_API_SID'],\n",
    "        'DataApiKey': config['YOUMAIL_API_KEY']\n",
    "    }\n",
    "    \n",
    "    return headers"
   ]
  },
  {
   "cell_type": "code",
   "execution_count": 74,
   "id": "55f1c7b2",
   "metadata": {
    "scrolled": true
   },
   "outputs": [],
   "source": [
    "#get partial spam list by datetime\n",
    "def get_youmail_partial_list(datetime):\n",
    "    \n",
    "    try:\n",
    "        headers = get_youmail_api_headers()\n",
    "        response = requests.get(URL_YOUMAIL_API_PARTIAL_HOUR + datetime, headers=headers)\n",
    "    \n",
    "    except requests.exceptions.RequestException as e:\n",
    "        print(e)\n",
    "        raise SystemExit(e)\n",
    "        \n",
    "    return response.json()\n",
    "\n",
    "#hourly = get_youmail_partial_list(\"20211020T160000Z\")"
   ]
  },
  {
   "cell_type": "code",
   "execution_count": 73,
   "id": "a21832fd",
   "metadata": {},
   "outputs": [],
   "source": [
    "#get full spam list\n",
    "def get_youmail_full_list():\n",
    "    \n",
    "    try:\n",
    "        headers = get_youmail_api_headers()\n",
    "        response = requests.get(URL_YOUMAIL_API_FULL, headers=headers)\n",
    "    \n",
    "    except requests.exceptions.RequestException as e:\n",
    "        print(e)\n",
    "        raise SystemExit(e)\n",
    "        \n",
    "    return response.json()"
   ]
  },
  {
   "cell_type": "code",
   "execution_count": 72,
   "id": "f83542ab",
   "metadata": {},
   "outputs": [],
   "source": [
    "#get the full list from api, transform, and save it as csv file\n",
    "def save_youmail_full():\n",
    "\n",
    "    try:\n",
    "    \n",
    "        #get full spam list from youlist API\n",
    "        data = get_youmail_full_list()\n",
    "\n",
    "        #transform investigationReasons data\n",
    "        for d in data['phoneNumbers']:\n",
    "            if d['investigationReasons']:\n",
    "                for i in d['investigationReasons']:\n",
    "                    d[i['name']] = i['certainty']\n",
    "\n",
    "\n",
    "        df = pd.DataFrame(data['phoneNumbers'])\n",
    "        df.drop('investigationReasons', axis=1, inplace=True)\n",
    "        df.columns = ['Number', 'SpamScore', 'FraudProbability', 'TCPAFraudProbability']\n",
    "        df.to_csv(CSV_FOLDER + \"/\" + YOUMAIL_FULL_FILENAME, index=False)\n",
    "    \n",
    "    except Exception as e:\n",
    "        print(e)\n",
    "        raise SystemExit(e)\n",
    "        \n",
    "    return"
   ]
  },
  {
   "cell_type": "code",
   "execution_count": 71,
   "id": "14fd29ae",
   "metadata": {},
   "outputs": [],
   "source": [
    "save_youmail_full()"
   ]
  }
 ],
 "metadata": {
  "jupytext": {
   "text_representation": {
    "extension": ".py",
    "format_name": "light",
    "format_version": "1.5",
    "jupytext_version": "1.13.0"
   }
  },
  "kernelspec": {
   "display_name": "Python 3",
   "language": "python",
   "name": "python3"
  },
  "language_info": {
   "codemirror_mode": {
    "name": "ipython",
    "version": 3
   },
   "file_extension": ".py",
   "mimetype": "text/x-python",
   "name": "python",
   "nbconvert_exporter": "python",
   "pygments_lexer": "ipython3",
   "version": "3.8.8"
  }
 },
 "nbformat": 4,
 "nbformat_minor": 5
}
